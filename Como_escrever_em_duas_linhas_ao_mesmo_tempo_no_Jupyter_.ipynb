{
  "nbformat": 4,
  "nbformat_minor": 0,
  "metadata": {
    "colab": {
      "name": "Como escrever em duas linhas ao mesmo tempo no Jupyter?",
      "provenance": [],
      "collapsed_sections": []
    },
    "kernelspec": {
      "name": "python3",
      "display_name": "Python 3"
    },
    "language_info": {
      "name": "python"
    }
  },
  "cells": [
    {
      "cell_type": "markdown",
      "source": [
        "# Olá, eu sou o Igor do Data de Hoje e vou responder a sua pergunta!"
      ],
      "metadata": {
        "id": "3usOktpmpKj7"
      }
    },
    {
      "cell_type": "markdown",
      "source": [
        "# Como **escrever em duas linhas ao mesmo tempo** no Jupyter?"
      ],
      "metadata": {
        "id": "xS5sJMZkpktJ"
      }
    },
    {
      "cell_type": "markdown",
      "source": [
        "### (Essa manha eu sei que vale pro Jupyter e pro Google Colab.)"
      ],
      "metadata": {
        "id": "rqp3PQ5vpw6j"
      }
    },
    {
      "cell_type": "markdown",
      "source": [
        "#### Vamos lá?"
      ],
      "metadata": {
        "id": "woqRPejUp5j-"
      }
    },
    {
      "cell_type": "markdown",
      "source": [
        "# Aperte as teclas **Ctrl + Shift + seta** para baixo (ou para cima)"
      ],
      "metadata": {
        "id": "X84AC0VLp-dR"
      }
    },
    {
      "cell_type": "markdown",
      "source": [
        "Para isso é necessário que você já tenha duas linhas de código."
      ],
      "metadata": {
        "id": "_1jQ7w9QqPnU"
      }
    },
    {
      "cell_type": "markdown",
      "source": [
        "## É só ir apertando as teclas para baixo ou para cima que o cursor vai se multiplicando.\n",
        "\n",
        "Vem que eu te mostro como fica!"
      ],
      "metadata": {
        "id": "FBfNh-AYqWuv"
      }
    },
    {
      "cell_type": "markdown",
      "source": [
        "## Abaixo segue um exemplo em que eu preciso acrescentar um termo 'log' em várias linhas. Para não precisar digitar várias vezes ou dar CTRL + C e Ctrl + V, eu vou usar essa manha do cursor."
      ],
      "metadata": {
        "id": "d_KeK1THrUGv"
      }
    },
    {
      "cell_type": "code",
      "source": [
        ""
      ],
      "metadata": {
        "id": "h4pwB-FlrVIC"
      },
      "execution_count": null,
      "outputs": []
    },
    {
      "cell_type": "markdown",
      "source": [
        "### Gostou?\n",
        "Curte, Comenta e segue!\n",
        "\n",
        "Até a próxima dica."
      ],
      "metadata": {
        "id": "wIXrnpjfrXDU"
      }
    },
    {
      "cell_type": "code",
      "source": [
        ""
      ],
      "metadata": {
        "id": "oCZa4UEFrd4d"
      },
      "execution_count": null,
      "outputs": []
    }
  ]
}